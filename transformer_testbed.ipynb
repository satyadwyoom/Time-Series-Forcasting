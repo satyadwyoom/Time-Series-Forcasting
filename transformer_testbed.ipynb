{
 "cells": [
  {
   "cell_type": "code",
   "execution_count": 1,
   "metadata": {},
   "outputs": [],
   "source": [
    "import torch\n",
    "import torch.nn as nn\n",
    "import yfinance as yf\n",
    "import pandas as pd \n",
    "import numpy as np\n",
    "import matplotlib.pyplot as plt\n",
    "from sklearn.preprocessing import MinMaxScaler\n",
    "from torch.utils.data import Dataset, DataLoader"
   ]
  },
  {
   "cell_type": "code",
   "execution_count": 2,
   "metadata": {},
   "outputs": [
    {
     "data": {
      "text/plain": [
       "<torch._C.Generator at 0x1089ab710>"
      ]
     },
     "execution_count": 2,
     "metadata": {},
     "output_type": "execute_result"
    }
   ],
   "source": [
    "# Set the random seed for NumPy\n",
    "np.random.seed(42)\n",
    "\n",
    "# Set the random seed for PyTorch\n",
    "torch.manual_seed(42)"
   ]
  },
  {
   "cell_type": "code",
   "execution_count": 3,
   "metadata": {},
   "outputs": [
    {
     "name": "stderr",
     "output_type": "stream",
     "text": [
      "[*********************100%%**********************]  1 of 1 completed\n"
     ]
    }
   ],
   "source": [
    "ticker = \"MSFT\"\n",
    "\n",
    "live_data = yf.download(tickers=ticker, period=\"5y\", interval=\"1d\")"
   ]
  },
  {
   "cell_type": "code",
   "execution_count": 4,
   "metadata": {},
   "outputs": [],
   "source": [
    "def create_seq(data, seq_len):\n",
    "    xs, trg, ys = [], [], []\n",
    "    for i in range(len(data)-seq_len):\n",
    "        xs.append(data[i:i+seq_len])\n",
    "        trg.append(data[i+seq_len-1])\n",
    "        ys.append(data[i+seq_len])\n",
    "\n",
    "    return np.array(xs), np.array(trg), np.array(ys)\n",
    "\n",
    "seq_len = 30\n",
    "X, trg, y = create_seq(live_data['Close'].values, seq_len=seq_len)\n"
   ]
  },
  {
   "cell_type": "code",
   "execution_count": 5,
   "metadata": {},
   "outputs": [],
   "source": [
    "from sklearn.model_selection import train_test_split\n",
    "\n",
    "X_train, X_test, trg_train, trg_test, y_train, y_test = train_test_split(X, trg, y, test_size=0.3)"
   ]
  },
  {
   "cell_type": "code",
   "execution_count": 6,
   "metadata": {},
   "outputs": [],
   "source": [
    "class stock_dataset(Dataset):\n",
    "    def __init__(self, X, trg, y):\n",
    "        super(stock_dataset, self).__init__()\n",
    "        self.X = torch.from_numpy(X).float()\n",
    "        self.trg = torch.from_numpy(trg).float().unsqueeze(-1)\n",
    "        self.y = torch.from_numpy(y).float().unsqueeze(-1)\n",
    "\n",
    "    def __len__(self):\n",
    "        return len(self.X)\n",
    "    \n",
    "    def __getitem__(self, index):\n",
    "        return self.X[index], self.trg[index], self.y[index]\n",
    "    \n",
    "train_dataset = stock_dataset(X_train, trg_train, y_train)\n",
    "test_dataset = stock_dataset(X_test, trg_test, y_test)\n",
    "\n",
    "BATCH_SIZE = 64\n",
    "train_loader = DataLoader(train_dataset, shuffle=True, batch_size=BATCH_SIZE)\n",
    "test_loader = DataLoader(test_dataset, shuffle=False, batch_size=BATCH_SIZE)\n",
    "\n"
   ]
  },
  {
   "cell_type": "code",
   "execution_count": 7,
   "metadata": {},
   "outputs": [],
   "source": [
    "# import math\n",
    "# class positionalEncoding(nn.Module):\n",
    "#     def __init__(self, embed_dim, maxlen=100):\n",
    "#         super(positionalEncoding, self).__init__()\n",
    "#         self.encoding = torch.zeros(maxlen, embed_dim)\n",
    "#         position = torch.arange(0, maxlen).unsqueeze(1)\n",
    "#         div_term = torch.exp(torch.arange(0, embed_dim, 2).float() * (-math.log(10000.0) / embed_dim))\n",
    "#         self.encoding[:, 0::2] = torch.sin(position * div_term)\n",
    "#         self.encoding[:, 1::2] = torch.cos(position * div_term)\n",
    "#         self.encoding = self.encoding.unsqueeze(0)\n",
    "\n",
    "#     def forward(self, x):\n",
    "#         seq_len = x.size(1)\n",
    "#         return x + self.encoding\n",
    "    \n",
    "\n",
    "# class Transformer_Model(nn.Module):\n",
    "#     def __init__(self, input_size, seq_len, n_layers, n_heads, hidden_dim, dropout=0.1):\n",
    "#         super(Transformer_Model, self).__init__()\n",
    "#         self.input_size = input_size\n",
    "#         self.embedding = nn.Linear(self.input_size, hidden_dim)\n",
    "#         self.positional_encoding = positionalEncoding(hidden_dim, maxlen=seq_len)\n",
    "#         self.encoder_layers = nn.TransformerEncoderLayer(d_model=hidden_dim, nhead=n_heads, dim_feedforward=128, dropout=dropout)\n",
    "#         self.transformer_encoder = nn.TransformerEncoder(self.encoder_layers, num_layers=n_layers)\n",
    "#         self.decoder1 = nn.Linear(hidden_dim, 1)\n",
    "#         self.decoder2 = nn.Linear(seq_len, 1)\n",
    "        \n",
    "\n",
    "#     def forward(self, src):\n",
    "#         src = self.embedding(src)\n",
    "#         src = self.positional_encoding(src)\n",
    "#         src = self.transformer_encoder(src)\n",
    "#         src = self.decoder1(src[:,-1,:])\n",
    "#         # src = src.squeeze()\n",
    "#         # src = self.decoder2(src)\n",
    "#         # print(src.shape)\n",
    "#         return src\n",
    "        \n",
    "        \n"
   ]
  },
  {
   "cell_type": "code",
   "execution_count": 18,
   "metadata": {},
   "outputs": [],
   "source": [
    "import math\n",
    "\n",
    "class positionalEncoding(nn.Module):\n",
    "    def __init__(self, embed_dim, maxlen=100):\n",
    "        super(positionalEncoding, self).__init__()\n",
    "        self.encoding = torch.zeros(maxlen, embed_dim)\n",
    "        position = torch.arange(0, maxlen).unsqueeze(1)\n",
    "        div_term = torch.exp(torch.arange(0, embed_dim, 2).float() * (-math.log(10000.0) / embed_dim))\n",
    "        self.encoding[:, 0::2] = torch.sin(position * div_term)\n",
    "        self.encoding[:, 1::2] = torch.cos(position * div_term)\n",
    "        self.encoding = self.encoding.unsqueeze(0)\n",
    "\n",
    "    def forward(self, x):\n",
    "        # seq_len = x.size(1)\n",
    "        return x + self.encoding\n",
    "    \n",
    "\n",
    "class timeseriestransformer(nn.Module):\n",
    "\n",
    "    def __init__(self,\n",
    "                 input_size,\n",
    "                 seq_len,\n",
    "                 out_len,\n",
    "                 hidden_dim,\n",
    "                 n_layers,\n",
    "                 n_heads,\n",
    "                 dropout\n",
    "                 ):\n",
    "        super(timeseriestransformer, self).__init__()\n",
    "        self.out_len = out_len\n",
    "\n",
    "        self.encoder_inp_layer = nn.Linear(input_size, hidden_dim)\n",
    "        self.decoder_inp_layer = nn.Linear(input_size, hidden_dim)\n",
    "        self.linear_mapping = nn.Linear(out_len*hidden_dim, out_len)\n",
    "\n",
    "        self.pe = positionalEncoding(hidden_dim, seq_len)\n",
    "\n",
    "        self.encoder_layer = nn.TransformerEncoderLayer(d_model=hidden_dim,\n",
    "                                                        nhead=n_heads,\n",
    "                                                        dim_feedforward=512,\n",
    "                                                        dropout=dropout,\n",
    "                                                        batch_first=True)\n",
    "        \n",
    "        self.encoder = nn.TransformerEncoder(self.encoder_layer, num_layers=n_layers)\n",
    "\n",
    "        self.decoder_layer = nn.TransformerDecoderLayer(d_model=hidden_dim,\n",
    "                                                        nhead=n_heads,\n",
    "                                                        dim_feedforward=512,\n",
    "                                                        dropout=dropout,\n",
    "                                                        batch_first=True)\n",
    "        \n",
    "        self.decoder = nn.TransformerDecoder(self.decoder_layer, num_layers=n_layers)\n",
    "\n",
    "\n",
    "    def forward(self, src, tgt):\n",
    "        src = self.encoder_inp_layer(src)\n",
    "        src = self.pe(src)\n",
    "        src = self.encoder(src)\n",
    "\n",
    "        tgt = self.decoder_inp_layer(tgt)\n",
    "        tgt = self.decoder(tgt=tgt, memory=src)\n",
    "        # print(tgt.shape, tgt.flatten(1).shape)\n",
    "        out = self.linear_mapping(tgt.flatten(1))\n",
    "\n",
    "        return out\n"
   ]
  },
  {
   "cell_type": "code",
   "execution_count": 19,
   "metadata": {},
   "outputs": [],
   "source": [
    "input_size = 1\n",
    "out_len = 1\n",
    "hidden_dim = 32\n",
    "n_layers = 12\n",
    "n_heads = 16\n",
    "dropout = 0.2\n",
    "\n",
    "model = timeseriestransformer(input_size=input_size,\n",
    "                              seq_len=seq_len,\n",
    "                              out_len=out_len,\n",
    "                              hidden_dim=hidden_dim,\n",
    "                              n_layers=n_layers,\n",
    "                              n_heads=n_heads,\n",
    "                              dropout=dropout)\n"
   ]
  },
  {
   "cell_type": "code",
   "execution_count": 20,
   "metadata": {},
   "outputs": [
    {
     "name": "stdout",
     "output_type": "stream",
     "text": [
      "Epoch: 1 of 50 ; Loss: 74880.88\n",
      "Epoch: 2 of 50 ; Loss: 71323.55\n",
      "Epoch: 3 of 50 ; Loss: 65170.90\n",
      "Epoch: 4 of 50 ; Loss: 56087.54\n",
      "Epoch: 5 of 50 ; Loss: 46190.10\n",
      "Epoch: 6 of 50 ; Loss: 34239.80\n",
      "Epoch: 7 of 50 ; Loss: 22844.49\n",
      "Epoch: 8 of 50 ; Loss: 12866.80\n",
      "Epoch: 9 of 50 ; Loss: 6841.52\n",
      "Epoch: 10 of 50 ; Loss: 7097.04\n",
      "Epoch: 11 of 50 ; Loss: 9497.34\n",
      "Epoch: 12 of 50 ; Loss: 10023.34\n",
      "Epoch: 13 of 50 ; Loss: 10785.23\n",
      "Epoch: 14 of 50 ; Loss: 11146.11\n",
      "Epoch: 15 of 50 ; Loss: 12032.02\n",
      "Epoch: 16 of 50 ; Loss: 12252.49\n",
      "Epoch: 17 of 50 ; Loss: 12348.53\n",
      "Epoch: 18 of 50 ; Loss: 12305.81\n",
      "Epoch: 19 of 50 ; Loss: 12380.96\n",
      "Epoch: 20 of 50 ; Loss: 12045.12\n",
      "Epoch: 21 of 50 ; Loss: 11832.03\n",
      "Epoch: 22 of 50 ; Loss: 11967.05\n",
      "Epoch: 23 of 50 ; Loss: 11540.23\n",
      "Epoch: 24 of 50 ; Loss: 11524.79\n",
      "Epoch: 25 of 50 ; Loss: 11545.11\n",
      "Epoch: 26 of 50 ; Loss: 11270.27\n",
      "Epoch: 27 of 50 ; Loss: 11264.45\n",
      "Epoch: 28 of 50 ; Loss: 11240.11\n",
      "Epoch: 29 of 50 ; Loss: 11064.42\n",
      "Epoch: 30 of 50 ; Loss: 10911.22\n",
      "Epoch: 31 of 50 ; Loss: 10772.70\n",
      "Epoch: 32 of 50 ; Loss: 10867.09\n",
      "Epoch: 33 of 50 ; Loss: 10651.75\n",
      "Epoch: 34 of 50 ; Loss: 10672.17\n",
      "Epoch: 35 of 50 ; Loss: 10893.34\n",
      "Epoch: 36 of 50 ; Loss: 11057.56\n",
      "Epoch: 37 of 50 ; Loss: 10723.05\n",
      "Epoch: 38 of 50 ; Loss: 10826.69\n",
      "Epoch: 39 of 50 ; Loss: 11041.78\n",
      "Epoch: 40 of 50 ; Loss: 10565.60\n",
      "Epoch: 41 of 50 ; Loss: 10693.15\n",
      "Epoch: 42 of 50 ; Loss: 10901.67\n",
      "Epoch: 43 of 50 ; Loss: 10540.55\n",
      "Epoch: 44 of 50 ; Loss: 10953.46\n",
      "Epoch: 45 of 50 ; Loss: 10987.58\n",
      "Epoch: 46 of 50 ; Loss: 10706.04\n",
      "Epoch: 47 of 50 ; Loss: 10734.67\n",
      "Epoch: 48 of 50 ; Loss: 10835.71\n",
      "Epoch: 49 of 50 ; Loss: 10838.37\n",
      "Epoch: 50 of 50 ; Loss: 10744.67\n"
     ]
    }
   ],
   "source": [
    "lr = 0.01\n",
    "EPOCH = 50\n",
    "criterion = nn.MSELoss()\n",
    "optimizer = torch.optim.Adam(model.parameters(), lr=lr)\n",
    "\n",
    "scheduler = torch.optim.lr_scheduler.StepLR(optimizer, step_size=10, gamma=0.1)\n",
    "\n",
    "model.train()\n",
    "for e in range(EPOCH):\n",
    "    e_loss = 0\n",
    "    for i, batch in enumerate(train_loader):\n",
    "        X_batch, trg_batch, y_batch = batch\n",
    "        output = model(X_batch.unsqueeze(-1), trg_batch.unsqueeze(-1))\n",
    "        loss = criterion(output, y_batch)\n",
    "        loss.backward()\n",
    "        optimizer.step()\n",
    "        e_loss += loss.item()\n",
    "\n",
    "    scheduler.step()\n",
    "\n",
    "    print(\"Epoch: {} of {} ; Loss: {:.2f}\".format(e+1, EPOCH, e_loss/len(train_loader)))\n",
    "\n"
   ]
  },
  {
   "cell_type": "code",
   "execution_count": null,
   "metadata": {},
   "outputs": [],
   "source": [
    "X_b, trg_b, y_b = next(enumerate(test_loader))[1]\n"
   ]
  },
  {
   "cell_type": "code",
   "execution_count": null,
   "metadata": {},
   "outputs": [
    {
     "name": "stdout",
     "output_type": "stream",
     "text": [
      "tensor(8931.4492, grad_fn=<MseLossBackward0>)\n",
      "tensor(6608.8408, grad_fn=<MseLossBackward0>)\n"
     ]
    },
    {
     "data": {
      "image/png": "[encoded data removed]",
      "text/plain": [
       "<Figure size 640x480 with 1 Axes>"
      ]
     },
     "metadata": {},
     "output_type": "display_data"
    }
   ],
   "source": [
    "model.train()\n",
    "outputb1 = model(X_b.unsqueeze(-1), trg_b.unsqueeze(-1))\n",
    "model.eval()\n",
    "outputb2 = model(X_b.unsqueeze(-1), trg_b.unsqueeze(-1))\n",
    "plt.plot(list(y_b.detach().squeeze().numpy()), label=\"actual\")\n",
    "plt.plot(list(outputb1.detach().squeeze().numpy()), label=\"with dropout={} (train mode)\".format(dropout))\n",
    "plt.plot(list(outputb2.detach().squeeze().numpy()), label=\"without dropout (eval mode)\")\n",
    "\n",
    "plt.legend()\n",
    "# plt.plot(y_ac)\n",
    "# plt.plot(y_pred)\n",
    "print(criterion(outputb1, y_b))\n",
    "print(criterion(outputb2, y_b))"
   ]
  },
  {
   "cell_type": "code",
   "execution_count": null,
   "metadata": {},
   "outputs": [
    {
     "data": {
      "text/plain": [
       "torch.Size([32, 1])"
      ]
     },
     "execution_count": 13,
     "metadata": {},
     "output_type": "execute_result"
    }
   ],
   "source": [
    "y_b.shape"
   ]
  },
  {
   "cell_type": "code",
   "execution_count": null,
   "metadata": {},
   "outputs": [],
   "source": [
    "model.eval()\n",
    "\n",
    "y_ac = []\n",
    "y_pred = []\n",
    "with torch.no_grad():\n",
    "    for batch in test_loader:\n",
    "        xt, trgt, yt = batch\n",
    "        ypt = model(xt.unsqueeze(-1), trgt.unsqueeze(-1))\n",
    "        y_ac.extend(yt.numpy().flatten())\n",
    "        y_pred.extend(ypt.numpy().flatten())"
   ]
  },
  {
   "cell_type": "code",
   "execution_count": null,
   "metadata": {},
   "outputs": [],
   "source": []
  }
 ],
 "metadata": {
  "kernelspec": {
   "display_name": "base",
   "language": "python",
   "name": "python3"
  },
  "language_info": {
   "codemirror_mode": {
    "name": "ipython",
    "version": 3
   },
   "file_extension": ".py",
   "mimetype": "text/x-python",
   "name": "python",
   "nbconvert_exporter": "python",
   "pygments_lexer": "ipython3",
   "version": "3.10.13"
  }
 },
 "nbformat": 4,
 "nbformat_minor": 2
}
